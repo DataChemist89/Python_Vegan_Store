{
 "cells": [
  {
   "cell_type": "code",
   "execution_count": null,
   "id": "ca82769f-eac9-49d5-9b96-3be19faeff64",
   "metadata": {
    "id": "ca82769f-eac9-49d5-9b96-3be19faeff64",
    "outputId": "a0078f61-433c-4fe8-ebfa-d797e4e3e9c9"
   },
   "outputs": [],
   "source": [
    "import csv\n",
    "from veg_store_modules.store import VeganStore\n",
    "from veg_store_modules.commands_help import help1,help2\n",
    "commands=[\"aggiungi\",\"elenca\",\"vendita\",\"profitti\",\"aiuto\",\"chiudi\"]\n",
    "VeganStore.initial_store_check()\n",
    "\n",
    "promt=\"\"\n",
    "while promt!=\"chiudi\":\n",
    "    cost=[]\n",
    "    sales=[]\n",
    "\n",
    "    promt=input(\"Inserisci un comando:\")\n",
    "\n",
    "    if promt not in commands:\n",
    "      help1()\n",
    "\n",
    "    elif promt==\"aiuto\":\n",
    "      help2()\n",
    "\n",
    "    elif promt ==\"aggiungi\":\n",
    "        VeganStore.add_product()\n",
    "\n",
    "    elif promt==\"vendita\":\n",
    "        VeganStore.sell_product()\n",
    "\n",
    "    elif promt==\"elenca\":\n",
    "        VeganStore.show()\n",
    "\n",
    "    elif promt==\"profitti\":\n",
    "        VeganStore.profit_calculator()\n",
    "\n",
    "else:\n",
    "    print(\"bye bye\")"
   ]
  }
 ],
 "metadata": {
  "colab": {
   "provenance": []
  },
  "kernelspec": {
   "display_name": "Python 3 (ipykernel)",
   "language": "python",
   "name": "python3"
  },
  "language_info": {
   "codemirror_mode": {
    "name": "ipython",
    "version": 3
   },
   "file_extension": ".py",
   "mimetype": "text/x-python",
   "name": "python",
   "nbconvert_exporter": "python",
   "pygments_lexer": "ipython3",
   "version": "3.12.3"
  }
 },
 "nbformat": 4,
 "nbformat_minor": 5
}
